{
 "cells": [
  {
   "cell_type": "code",
   "execution_count": 1,
   "metadata": {},
   "outputs": [],
   "source": [
    "import matplotlib.pyplot as plt\n",
    "%matplotlib inline\n",
    "\n",
    "import cv2\n",
    "import numpy as np\n",
    "\n",
    "from src.camera import Camera\n",
    "from src.image_processing_pipeline import ImageProcessingPipeline"
   ]
  },
  {
   "cell_type": "code",
   "execution_count": null,
   "metadata": {},
   "outputs": [],
   "source": [
    "camera = Camera.create(\"camera_cal/calibration*.jpg\")\n",
    "camera.calibrate()"
   ]
  },
  {
   "cell_type": "code",
   "execution_count": null,
   "metadata": {
    "scrolled": true
   },
   "outputs": [],
   "source": [
    "distorted_image = cv2.imread('test_images/straight_lines1.jpg')\n",
    "undistorted_image = camera.undistort(distorted_image)\n",
    "\n",
    "f, (ax1, ax2) = plt.subplots(1, 2, figsize=(20,10))\n",
    "ax1.imshow(cv2.cvtColor(distorted_image, cv2.COLOR_BGR2RGB))\n",
    "ax1.set_title('Original Image', fontsize=30)\n",
    "ax2.imshow(cv2.cvtColor(undistorted_image, cv2.COLOR_BGR2RGB))\n",
    "ax2.set_title('Undistorted Image', fontsize=30)"
   ]
  },
  {
   "cell_type": "code",
   "execution_count": null,
   "metadata": {
    "scrolled": true
   },
   "outputs": [],
   "source": [
    "pipeline = ImageProcessingPipeline(camera)\n",
    "\n",
    "processed = pipeline.process(undistorted_image)\n",
    "\n",
    "pipeline.sobel_thresh = (10, 100)\n",
    "pipeline.sobel_kernel = 15\n",
    "pipeline.mag_thresh = (20, 120)\n",
    "pipeline.dir_thresh = (0.5, 1.5)\n",
    "pipeline.color_thresh = (90, 255)\n",
    "\n",
    "plt.imshow(pipeline.process(undistorted_image), cmap='gray')"
   ]
  },
  {
   "cell_type": "code",
   "execution_count": null,
   "metadata": {},
   "outputs": [],
   "source": []
  }
 ],
 "metadata": {
  "kernelspec": {
   "display_name": "Python 3",
   "language": "python",
   "name": "python3"
  },
  "language_info": {
   "codemirror_mode": {
    "name": "ipython",
    "version": 3
   },
   "file_extension": ".py",
   "mimetype": "text/x-python",
   "name": "python",
   "nbconvert_exporter": "python",
   "pygments_lexer": "ipython3",
   "version": "3.6.7"
  }
 },
 "nbformat": 4,
 "nbformat_minor": 2
}
